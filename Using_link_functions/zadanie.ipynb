{
 "cells": [
  {
   "cell_type": "code",
   "execution_count": 409,
   "metadata": {},
   "outputs": [],
   "source": [
    "from cmdstanpy import CmdStanModel\n",
    "\n",
    "\n",
    "import arviz as az\n",
    "import numpy as np\n",
    "import scipy.stats as stats\n",
    "\n",
    "import matplotlib.pyplot as plt\n",
    "import pandas as pd\n",
    "\n",
    "import seaborn as sns"
   ]
  },
  {
   "attachments": {},
   "cell_type": "markdown",
   "metadata": {},
   "source": [
    "# DATA:"
   ]
  },
  {
   "cell_type": "code",
   "execution_count": 410,
   "metadata": {},
   "outputs": [
    {
     "data": {
      "text/html": [
       "<div>\n",
       "<style scoped>\n",
       "    .dataframe tbody tr th:only-of-type {\n",
       "        vertical-align: middle;\n",
       "    }\n",
       "\n",
       "    .dataframe tbody tr th {\n",
       "        vertical-align: top;\n",
       "    }\n",
       "\n",
       "    .dataframe thead th {\n",
       "        text-align: right;\n",
       "    }\n",
       "</style>\n",
       "<table border=\"1\" class=\"dataframe\">\n",
       "  <thead>\n",
       "    <tr style=\"text-align: right;\">\n",
       "      <th></th>\n",
       "      <th>Year</th>\n",
       "      <th>Fatal accidents</th>\n",
       "      <th>Passenger deaths</th>\n",
       "      <th>Miles flown [100 mln miles]</th>\n",
       "    </tr>\n",
       "  </thead>\n",
       "  <tbody>\n",
       "    <tr>\n",
       "      <th>0</th>\n",
       "      <td>1976</td>\n",
       "      <td>24</td>\n",
       "      <td>734</td>\n",
       "      <td>3863.0</td>\n",
       "    </tr>\n",
       "    <tr>\n",
       "      <th>1</th>\n",
       "      <td>1977</td>\n",
       "      <td>25</td>\n",
       "      <td>516</td>\n",
       "      <td>4300.0</td>\n",
       "    </tr>\n",
       "    <tr>\n",
       "      <th>2</th>\n",
       "      <td>1978</td>\n",
       "      <td>31</td>\n",
       "      <td>754</td>\n",
       "      <td>5027.0</td>\n",
       "    </tr>\n",
       "    <tr>\n",
       "      <th>3</th>\n",
       "      <td>1979</td>\n",
       "      <td>31</td>\n",
       "      <td>877</td>\n",
       "      <td>5481.0</td>\n",
       "    </tr>\n",
       "    <tr>\n",
       "      <th>4</th>\n",
       "      <td>1980</td>\n",
       "      <td>22</td>\n",
       "      <td>814</td>\n",
       "      <td>5814.0</td>\n",
       "    </tr>\n",
       "    <tr>\n",
       "      <th>5</th>\n",
       "      <td>1981</td>\n",
       "      <td>21</td>\n",
       "      <td>362</td>\n",
       "      <td>6033.0</td>\n",
       "    </tr>\n",
       "    <tr>\n",
       "      <th>6</th>\n",
       "      <td>1982</td>\n",
       "      <td>26</td>\n",
       "      <td>764</td>\n",
       "      <td>5877.0</td>\n",
       "    </tr>\n",
       "    <tr>\n",
       "      <th>7</th>\n",
       "      <td>1983</td>\n",
       "      <td>20</td>\n",
       "      <td>809</td>\n",
       "      <td>6223.0</td>\n",
       "    </tr>\n",
       "    <tr>\n",
       "      <th>8</th>\n",
       "      <td>1984</td>\n",
       "      <td>16</td>\n",
       "      <td>223</td>\n",
       "      <td>7433.0</td>\n",
       "    </tr>\n",
       "    <tr>\n",
       "      <th>9</th>\n",
       "      <td>1985</td>\n",
       "      <td>22</td>\n",
       "      <td>1066</td>\n",
       "      <td>7107.0</td>\n",
       "    </tr>\n",
       "  </tbody>\n",
       "</table>\n",
       "</div>"
      ],
      "text/plain": [
       "   Year  Fatal accidents  Passenger deaths  Miles flown [100 mln miles]\n",
       "0  1976               24               734                       3863.0\n",
       "1  1977               25               516                       4300.0\n",
       "2  1978               31               754                       5027.0\n",
       "3  1979               31               877                       5481.0\n",
       "4  1980               22               814                       5814.0\n",
       "5  1981               21               362                       6033.0\n",
       "6  1982               26               764                       5877.0\n",
       "7  1983               20               809                       6223.0\n",
       "8  1984               16               223                       7433.0\n",
       "9  1985               22              1066                       7107.0"
      ]
     },
     "execution_count": 410,
     "metadata": {},
     "output_type": "execute_result"
    }
   ],
   "source": [
    "d = pd.read_csv(\"Airline_data.csv\", sep=',')\n",
    "d"
   ]
  },
  {
   "cell_type": "code",
   "execution_count": 411,
   "metadata": {},
   "outputs": [
    {
     "data": {
      "text/html": [
       "<div>\n",
       "<style scoped>\n",
       "    .dataframe tbody tr th:only-of-type {\n",
       "        vertical-align: middle;\n",
       "    }\n",
       "\n",
       "    .dataframe tbody tr th {\n",
       "        vertical-align: top;\n",
       "    }\n",
       "\n",
       "    .dataframe thead th {\n",
       "        text-align: right;\n",
       "    }\n",
       "</style>\n",
       "<table border=\"1\" class=\"dataframe\">\n",
       "  <thead>\n",
       "    <tr style=\"text-align: right;\">\n",
       "      <th></th>\n",
       "      <th>Year</th>\n",
       "      <th>Fatal accidents</th>\n",
       "      <th>Passenger deaths</th>\n",
       "      <th>Miles flown [100 mln miles]</th>\n",
       "    </tr>\n",
       "  </thead>\n",
       "  <tbody>\n",
       "    <tr>\n",
       "      <th>0</th>\n",
       "      <td>1976</td>\n",
       "      <td>24</td>\n",
       "      <td>734</td>\n",
       "      <td>-1.8528</td>\n",
       "    </tr>\n",
       "    <tr>\n",
       "      <th>1</th>\n",
       "      <td>1977</td>\n",
       "      <td>25</td>\n",
       "      <td>516</td>\n",
       "      <td>-1.4158</td>\n",
       "    </tr>\n",
       "    <tr>\n",
       "      <th>2</th>\n",
       "      <td>1978</td>\n",
       "      <td>31</td>\n",
       "      <td>754</td>\n",
       "      <td>-0.6888</td>\n",
       "    </tr>\n",
       "    <tr>\n",
       "      <th>3</th>\n",
       "      <td>1979</td>\n",
       "      <td>31</td>\n",
       "      <td>877</td>\n",
       "      <td>-0.2348</td>\n",
       "    </tr>\n",
       "    <tr>\n",
       "      <th>4</th>\n",
       "      <td>1980</td>\n",
       "      <td>22</td>\n",
       "      <td>814</td>\n",
       "      <td>0.0982</td>\n",
       "    </tr>\n",
       "    <tr>\n",
       "      <th>5</th>\n",
       "      <td>1981</td>\n",
       "      <td>21</td>\n",
       "      <td>362</td>\n",
       "      <td>0.3172</td>\n",
       "    </tr>\n",
       "    <tr>\n",
       "      <th>6</th>\n",
       "      <td>1982</td>\n",
       "      <td>26</td>\n",
       "      <td>764</td>\n",
       "      <td>0.1612</td>\n",
       "    </tr>\n",
       "    <tr>\n",
       "      <th>7</th>\n",
       "      <td>1983</td>\n",
       "      <td>20</td>\n",
       "      <td>809</td>\n",
       "      <td>0.5072</td>\n",
       "    </tr>\n",
       "    <tr>\n",
       "      <th>8</th>\n",
       "      <td>1984</td>\n",
       "      <td>16</td>\n",
       "      <td>223</td>\n",
       "      <td>1.7172</td>\n",
       "    </tr>\n",
       "    <tr>\n",
       "      <th>9</th>\n",
       "      <td>1985</td>\n",
       "      <td>22</td>\n",
       "      <td>1066</td>\n",
       "      <td>1.3912</td>\n",
       "    </tr>\n",
       "  </tbody>\n",
       "</table>\n",
       "</div>"
      ],
      "text/plain": [
       "   Year  Fatal accidents  Passenger deaths  Miles flown [100 mln miles]\n",
       "0  1976               24               734                      -1.8528\n",
       "1  1977               25               516                      -1.4158\n",
       "2  1978               31               754                      -0.6888\n",
       "3  1979               31               877                      -0.2348\n",
       "4  1980               22               814                       0.0982\n",
       "5  1981               21               362                       0.3172\n",
       "6  1982               26               764                       0.1612\n",
       "7  1983               20               809                       0.5072\n",
       "8  1984               16               223                       1.7172\n",
       "9  1985               22              1066                       1.3912"
      ]
     },
     "execution_count": 411,
     "metadata": {},
     "output_type": "execute_result"
    }
   ],
   "source": [
    "# Choosing parameters for such large values of 'Miles flown [100 mln miles]' was problematic so I scaled these values to smaller numbers with an mean of 0.\n",
    "d['Miles flown [100 mln miles]'] /= 1000\n",
    "d['Miles flown [100 mln miles]'] = d['Miles flown [100 mln miles]'] - d['Miles flown [100 mln miles]'].mean()\n",
    "d"
   ]
  },
  {
   "cell_type": "code",
   "execution_count": 412,
   "metadata": {},
   "outputs": [
    {
     "data": {
      "text/plain": [
       "23.8"
      ]
     },
     "execution_count": 412,
     "metadata": {},
     "output_type": "execute_result"
    }
   ],
   "source": [
    "d[\"Fatal accidents\"].mean() # checked after prior implementation"
   ]
  },
  {
   "cell_type": "code",
   "execution_count": 413,
   "metadata": {},
   "outputs": [
    {
     "data": {
      "text/plain": [
       "1.117767795404951"
      ]
     },
     "execution_count": 413,
     "metadata": {},
     "output_type": "execute_result"
    }
   ],
   "source": [
    "d[\"Miles flown [100 mln miles]\"].std() # checked after prior implementation"
   ]
  },
  {
   "attachments": {},
   "cell_type": "markdown",
   "metadata": {},
   "source": [
    "# PRIOR:"
   ]
  },
  {
   "cell_type": "code",
   "execution_count": 414,
   "metadata": {},
   "outputs": [
    {
     "name": "stderr",
     "output_type": "stream",
     "text": [
      "INFO:cmdstanpy:found newer exe file, not recompiling\n"
     ]
    }
   ],
   "source": [
    "model_0=CmdStanModel(stan_file='code_0.stan')"
   ]
  },
  {
   "cell_type": "code",
   "execution_count": 415,
   "metadata": {},
   "outputs": [
    {
     "name": "stderr",
     "output_type": "stream",
     "text": [
      "INFO:cmdstanpy:CmdStan start processing\n",
      "chain 1 |\u001b[34m██████████\u001b[0m| 00:00 Sampling completed"
     ]
    },
    {
     "name": "stdout",
     "output_type": "stream",
     "text": [
      "                                                                                "
     ]
    },
    {
     "name": "stderr",
     "output_type": "stream",
     "text": [
      "\n",
      "INFO:cmdstanpy:CmdStan done processing.\n"
     ]
    },
    {
     "name": "stdout",
     "output_type": "stream",
     "text": [
      "\n"
     ]
    }
   ],
   "source": [
    "samples = model_0.sample(data={}, fixed_param=True, iter_sampling=1000, iter_warmup=0, chains = 1)"
   ]
  },
  {
   "cell_type": "code",
   "execution_count": 416,
   "metadata": {},
   "outputs": [
    {
     "data": {
      "text/html": [
       "<div>\n",
       "<style scoped>\n",
       "    .dataframe tbody tr th:only-of-type {\n",
       "        vertical-align: middle;\n",
       "    }\n",
       "\n",
       "    .dataframe tbody tr th {\n",
       "        vertical-align: top;\n",
       "    }\n",
       "\n",
       "    .dataframe thead th {\n",
       "        text-align: right;\n",
       "    }\n",
       "</style>\n",
       "<table border=\"1\" class=\"dataframe\">\n",
       "  <thead>\n",
       "    <tr style=\"text-align: right;\">\n",
       "      <th></th>\n",
       "      <th>lp__</th>\n",
       "      <th>accept_stat__</th>\n",
       "      <th>alpha</th>\n",
       "      <th>theta</th>\n",
       "      <th>n</th>\n",
       "      <th>lambda</th>\n",
       "      <th>y</th>\n",
       "    </tr>\n",
       "  </thead>\n",
       "  <tbody>\n",
       "    <tr>\n",
       "      <th>0</th>\n",
       "      <td>0.0</td>\n",
       "      <td>0.0</td>\n",
       "      <td>3.77928</td>\n",
       "      <td>0.611242</td>\n",
       "      <td>-0.973801</td>\n",
       "      <td>24.14440</td>\n",
       "      <td>23.0</td>\n",
       "    </tr>\n",
       "    <tr>\n",
       "      <th>1</th>\n",
       "      <td>0.0</td>\n",
       "      <td>0.0</td>\n",
       "      <td>3.19943</td>\n",
       "      <td>0.400002</td>\n",
       "      <td>2.787650</td>\n",
       "      <td>74.77600</td>\n",
       "      <td>58.0</td>\n",
       "    </tr>\n",
       "    <tr>\n",
       "      <th>2</th>\n",
       "      <td>0.0</td>\n",
       "      <td>0.0</td>\n",
       "      <td>2.94925</td>\n",
       "      <td>0.608804</td>\n",
       "      <td>-0.732777</td>\n",
       "      <td>12.22070</td>\n",
       "      <td>12.0</td>\n",
       "    </tr>\n",
       "    <tr>\n",
       "      <th>3</th>\n",
       "      <td>0.0</td>\n",
       "      <td>0.0</td>\n",
       "      <td>2.45974</td>\n",
       "      <td>0.620608</td>\n",
       "      <td>0.014364</td>\n",
       "      <td>11.80660</td>\n",
       "      <td>13.0</td>\n",
       "    </tr>\n",
       "    <tr>\n",
       "      <th>4</th>\n",
       "      <td>0.0</td>\n",
       "      <td>0.0</td>\n",
       "      <td>2.31165</td>\n",
       "      <td>0.531113</td>\n",
       "      <td>-0.661309</td>\n",
       "      <td>7.10232</td>\n",
       "      <td>4.0</td>\n",
       "    </tr>\n",
       "    <tr>\n",
       "      <th>...</th>\n",
       "      <td>...</td>\n",
       "      <td>...</td>\n",
       "      <td>...</td>\n",
       "      <td>...</td>\n",
       "      <td>...</td>\n",
       "      <td>...</td>\n",
       "      <td>...</td>\n",
       "    </tr>\n",
       "    <tr>\n",
       "      <th>995</th>\n",
       "      <td>0.0</td>\n",
       "      <td>0.0</td>\n",
       "      <td>3.51340</td>\n",
       "      <td>0.451845</td>\n",
       "      <td>-0.615245</td>\n",
       "      <td>25.41670</td>\n",
       "      <td>18.0</td>\n",
       "    </tr>\n",
       "    <tr>\n",
       "      <th>996</th>\n",
       "      <td>0.0</td>\n",
       "      <td>0.0</td>\n",
       "      <td>1.20228</td>\n",
       "      <td>0.553799</td>\n",
       "      <td>1.290800</td>\n",
       "      <td>6.80135</td>\n",
       "      <td>3.0</td>\n",
       "    </tr>\n",
       "    <tr>\n",
       "      <th>997</th>\n",
       "      <td>0.0</td>\n",
       "      <td>0.0</td>\n",
       "      <td>4.55359</td>\n",
       "      <td>0.655937</td>\n",
       "      <td>-1.726290</td>\n",
       "      <td>30.60780</td>\n",
       "      <td>37.0</td>\n",
       "    </tr>\n",
       "    <tr>\n",
       "      <th>998</th>\n",
       "      <td>0.0</td>\n",
       "      <td>0.0</td>\n",
       "      <td>3.32450</td>\n",
       "      <td>0.511053</td>\n",
       "      <td>-0.936416</td>\n",
       "      <td>17.21780</td>\n",
       "      <td>15.0</td>\n",
       "    </tr>\n",
       "    <tr>\n",
       "      <th>999</th>\n",
       "      <td>0.0</td>\n",
       "      <td>0.0</td>\n",
       "      <td>2.62509</td>\n",
       "      <td>0.459870</td>\n",
       "      <td>0.752862</td>\n",
       "      <td>19.51740</td>\n",
       "      <td>33.0</td>\n",
       "    </tr>\n",
       "  </tbody>\n",
       "</table>\n",
       "<p>1000 rows × 7 columns</p>\n",
       "</div>"
      ],
      "text/plain": [
       "     lp__  accept_stat__    alpha     theta         n    lambda     y\n",
       "0     0.0            0.0  3.77928  0.611242 -0.973801  24.14440  23.0\n",
       "1     0.0            0.0  3.19943  0.400002  2.787650  74.77600  58.0\n",
       "2     0.0            0.0  2.94925  0.608804 -0.732777  12.22070  12.0\n",
       "3     0.0            0.0  2.45974  0.620608  0.014364  11.80660  13.0\n",
       "4     0.0            0.0  2.31165  0.531113 -0.661309   7.10232   4.0\n",
       "..    ...            ...      ...       ...       ...       ...   ...\n",
       "995   0.0            0.0  3.51340  0.451845 -0.615245  25.41670  18.0\n",
       "996   0.0            0.0  1.20228  0.553799  1.290800   6.80135   3.0\n",
       "997   0.0            0.0  4.55359  0.655937 -1.726290  30.60780  37.0\n",
       "998   0.0            0.0  3.32450  0.511053 -0.936416  17.21780  15.0\n",
       "999   0.0            0.0  2.62509  0.459870  0.752862  19.51740  33.0\n",
       "\n",
       "[1000 rows x 7 columns]"
      ]
     },
     "execution_count": 416,
     "metadata": {},
     "output_type": "execute_result"
    }
   ],
   "source": [
    "df = samples.draws_pd()\n",
    "df"
   ]
  },
  {
   "cell_type": "code",
   "execution_count": 417,
   "metadata": {},
   "outputs": [
    {
     "data": {
      "image/png": "[encoded data removed]",
      "text/plain": [
       "<Figure size 432x288 with 1 Axes>"
      ]
     },
     "metadata": {
      "needs_background": "light"
     },
     "output_type": "display_data"
    }
   ],
   "source": [
    "df['y'].plot.hist(bins=100)\n",
    "plt.show()"
   ]
  },
  {
   "cell_type": "code",
   "execution_count": 418,
   "metadata": {},
   "outputs": [
    {
     "data": {
      "text/plain": [
       "36.677"
      ]
     },
     "execution_count": 418,
     "metadata": {},
     "output_type": "execute_result"
    }
   ],
   "source": [
    "df['y'].mean()"
   ]
  },
  {
   "attachments": {},
   "cell_type": "markdown",
   "metadata": {},
   "source": [
    "# POSTERIOR:"
   ]
  },
  {
   "cell_type": "code",
   "execution_count": 419,
   "metadata": {},
   "outputs": [
    {
     "name": "stderr",
     "output_type": "stream",
     "text": [
      "INFO:cmdstanpy:found newer exe file, not recompiling\n"
     ]
    }
   ],
   "source": [
    "model_1=CmdStanModel(stan_file='code_1.stan')"
   ]
  },
  {
   "cell_type": "code",
   "execution_count": 420,
   "metadata": {},
   "outputs": [
    {
     "name": "stderr",
     "output_type": "stream",
     "text": [
      "INFO:cmdstanpy:CmdStan start processing\n",
      "chain 1 |\u001b[33m          \u001b[0m| 00:00 Status\n",
      "\u001b[A\n",
      "\n",
      "chain 1 |\u001b[33m▍         \u001b[0m| 00:00 Status\n",
      "\u001b[A\n",
      "\n",
      "chain 1 |\u001b[34m██████████\u001b[0m| 00:00 Sampling completed\n",
      "chain 2 |\u001b[34m██████████\u001b[0m| 00:00 Sampling completed\n",
      "chain 3 |\u001b[34m██████████\u001b[0m| 00:00 Sampling completed                       \n",
      "chain 4 |\u001b[34m██████████\u001b[0m| 00:00 Sampling completed                       "
     ]
    },
    {
     "name": "stdout",
     "output_type": "stream",
     "text": [
      "                                                                                                                                                                                                                                                                                                                                "
     ]
    },
    {
     "name": "stderr",
     "output_type": "stream",
     "text": [
      "\n",
      "INFO:cmdstanpy:CmdStan done processing.\n"
     ]
    },
    {
     "name": "stdout",
     "output_type": "stream",
     "text": [
      "\n"
     ]
    }
   ],
   "source": [
    "fit = model_1.sample(data={\"N\": d.shape[0], \"n_i\": d[\"Miles flown [100 mln miles]\"].values, \"y\": d[\"Fatal accidents\"].values})"
   ]
  },
  {
   "cell_type": "code",
   "execution_count": 421,
   "metadata": {},
   "outputs": [
    {
     "data": {
      "text/html": [
       "<div>\n",
       "<style scoped>\n",
       "    .dataframe tbody tr th:only-of-type {\n",
       "        vertical-align: middle;\n",
       "    }\n",
       "\n",
       "    .dataframe tbody tr th {\n",
       "        vertical-align: top;\n",
       "    }\n",
       "\n",
       "    .dataframe thead th {\n",
       "        text-align: right;\n",
       "    }\n",
       "</style>\n",
       "<table border=\"1\" class=\"dataframe\">\n",
       "  <thead>\n",
       "    <tr style=\"text-align: right;\">\n",
       "      <th></th>\n",
       "      <th>lp__</th>\n",
       "      <th>accept_stat__</th>\n",
       "      <th>stepsize__</th>\n",
       "      <th>treedepth__</th>\n",
       "      <th>n_leapfrog__</th>\n",
       "      <th>divergent__</th>\n",
       "      <th>energy__</th>\n",
       "      <th>alpha</th>\n",
       "      <th>theta</th>\n",
       "      <th>lambda[1]</th>\n",
       "      <th>...</th>\n",
       "      <th>y_pred[1]</th>\n",
       "      <th>y_pred[2]</th>\n",
       "      <th>y_pred[3]</th>\n",
       "      <th>y_pred[4]</th>\n",
       "      <th>y_pred[5]</th>\n",
       "      <th>y_pred[6]</th>\n",
       "      <th>y_pred[7]</th>\n",
       "      <th>y_pred[8]</th>\n",
       "      <th>y_pred[9]</th>\n",
       "      <th>y_pred[10]</th>\n",
       "    </tr>\n",
       "  </thead>\n",
       "  <tbody>\n",
       "    <tr>\n",
       "      <th>0</th>\n",
       "      <td>503.318</td>\n",
       "      <td>0.924305</td>\n",
       "      <td>0.762865</td>\n",
       "      <td>2.0</td>\n",
       "      <td>3.0</td>\n",
       "      <td>0.0</td>\n",
       "      <td>-503.088</td>\n",
       "      <td>3.23207</td>\n",
       "      <td>0.121330</td>\n",
       "      <td>20.2320</td>\n",
       "      <td>...</td>\n",
       "      <td>24.0</td>\n",
       "      <td>14.0</td>\n",
       "      <td>29.0</td>\n",
       "      <td>26.0</td>\n",
       "      <td>17.0</td>\n",
       "      <td>22.0</td>\n",
       "      <td>24.0</td>\n",
       "      <td>27.0</td>\n",
       "      <td>24.0</td>\n",
       "      <td>27.0</td>\n",
       "    </tr>\n",
       "    <tr>\n",
       "      <th>1</th>\n",
       "      <td>503.855</td>\n",
       "      <td>1.000000</td>\n",
       "      <td>0.762865</td>\n",
       "      <td>1.0</td>\n",
       "      <td>1.0</td>\n",
       "      <td>0.0</td>\n",
       "      <td>-503.357</td>\n",
       "      <td>3.22648</td>\n",
       "      <td>0.098362</td>\n",
       "      <td>20.9939</td>\n",
       "      <td>...</td>\n",
       "      <td>15.0</td>\n",
       "      <td>22.0</td>\n",
       "      <td>23.0</td>\n",
       "      <td>20.0</td>\n",
       "      <td>31.0</td>\n",
       "      <td>24.0</td>\n",
       "      <td>30.0</td>\n",
       "      <td>24.0</td>\n",
       "      <td>23.0</td>\n",
       "      <td>29.0</td>\n",
       "    </tr>\n",
       "    <tr>\n",
       "      <th>2</th>\n",
       "      <td>503.924</td>\n",
       "      <td>0.782222</td>\n",
       "      <td>0.762865</td>\n",
       "      <td>1.0</td>\n",
       "      <td>3.0</td>\n",
       "      <td>0.0</td>\n",
       "      <td>-501.414</td>\n",
       "      <td>3.15437</td>\n",
       "      <td>0.003532</td>\n",
       "      <td>23.2854</td>\n",
       "      <td>...</td>\n",
       "      <td>27.0</td>\n",
       "      <td>25.0</td>\n",
       "      <td>34.0</td>\n",
       "      <td>21.0</td>\n",
       "      <td>31.0</td>\n",
       "      <td>28.0</td>\n",
       "      <td>20.0</td>\n",
       "      <td>24.0</td>\n",
       "      <td>29.0</td>\n",
       "      <td>23.0</td>\n",
       "    </tr>\n",
       "    <tr>\n",
       "      <th>3</th>\n",
       "      <td>504.486</td>\n",
       "      <td>0.947938</td>\n",
       "      <td>0.762865</td>\n",
       "      <td>3.0</td>\n",
       "      <td>7.0</td>\n",
       "      <td>0.0</td>\n",
       "      <td>-503.275</td>\n",
       "      <td>3.17627</td>\n",
       "      <td>0.040919</td>\n",
       "      <td>22.2080</td>\n",
       "      <td>...</td>\n",
       "      <td>24.0</td>\n",
       "      <td>16.0</td>\n",
       "      <td>33.0</td>\n",
       "      <td>22.0</td>\n",
       "      <td>27.0</td>\n",
       "      <td>17.0</td>\n",
       "      <td>23.0</td>\n",
       "      <td>24.0</td>\n",
       "      <td>27.0</td>\n",
       "      <td>22.0</td>\n",
       "    </tr>\n",
       "    <tr>\n",
       "      <th>4</th>\n",
       "      <td>503.730</td>\n",
       "      <td>0.927432</td>\n",
       "      <td>0.762865</td>\n",
       "      <td>2.0</td>\n",
       "      <td>3.0</td>\n",
       "      <td>0.0</td>\n",
       "      <td>-503.632</td>\n",
       "      <td>3.24087</td>\n",
       "      <td>0.028566</td>\n",
       "      <td>24.2386</td>\n",
       "      <td>...</td>\n",
       "      <td>23.0</td>\n",
       "      <td>29.0</td>\n",
       "      <td>22.0</td>\n",
       "      <td>22.0</td>\n",
       "      <td>23.0</td>\n",
       "      <td>32.0</td>\n",
       "      <td>22.0</td>\n",
       "      <td>24.0</td>\n",
       "      <td>28.0</td>\n",
       "      <td>27.0</td>\n",
       "    </tr>\n",
       "    <tr>\n",
       "      <th>...</th>\n",
       "      <td>...</td>\n",
       "      <td>...</td>\n",
       "      <td>...</td>\n",
       "      <td>...</td>\n",
       "      <td>...</td>\n",
       "      <td>...</td>\n",
       "      <td>...</td>\n",
       "      <td>...</td>\n",
       "      <td>...</td>\n",
       "      <td>...</td>\n",
       "      <td>...</td>\n",
       "      <td>...</td>\n",
       "      <td>...</td>\n",
       "      <td>...</td>\n",
       "      <td>...</td>\n",
       "      <td>...</td>\n",
       "      <td>...</td>\n",
       "      <td>...</td>\n",
       "      <td>...</td>\n",
       "      <td>...</td>\n",
       "      <td>...</td>\n",
       "    </tr>\n",
       "    <tr>\n",
       "      <th>3995</th>\n",
       "      <td>504.331</td>\n",
       "      <td>0.974092</td>\n",
       "      <td>0.759231</td>\n",
       "      <td>2.0</td>\n",
       "      <td>7.0</td>\n",
       "      <td>0.0</td>\n",
       "      <td>-503.574</td>\n",
       "      <td>3.12531</td>\n",
       "      <td>0.079551</td>\n",
       "      <td>19.6468</td>\n",
       "      <td>...</td>\n",
       "      <td>21.0</td>\n",
       "      <td>25.0</td>\n",
       "      <td>28.0</td>\n",
       "      <td>16.0</td>\n",
       "      <td>16.0</td>\n",
       "      <td>16.0</td>\n",
       "      <td>23.0</td>\n",
       "      <td>19.0</td>\n",
       "      <td>18.0</td>\n",
       "      <td>27.0</td>\n",
       "    </tr>\n",
       "    <tr>\n",
       "      <th>3996</th>\n",
       "      <td>503.492</td>\n",
       "      <td>0.914450</td>\n",
       "      <td>0.759231</td>\n",
       "      <td>3.0</td>\n",
       "      <td>7.0</td>\n",
       "      <td>0.0</td>\n",
       "      <td>-503.270</td>\n",
       "      <td>3.08133</td>\n",
       "      <td>0.028794</td>\n",
       "      <td>20.6554</td>\n",
       "      <td>...</td>\n",
       "      <td>21.0</td>\n",
       "      <td>22.0</td>\n",
       "      <td>16.0</td>\n",
       "      <td>30.0</td>\n",
       "      <td>20.0</td>\n",
       "      <td>19.0</td>\n",
       "      <td>23.0</td>\n",
       "      <td>24.0</td>\n",
       "      <td>18.0</td>\n",
       "      <td>14.0</td>\n",
       "    </tr>\n",
       "    <tr>\n",
       "      <th>3997</th>\n",
       "      <td>504.376</td>\n",
       "      <td>0.876425</td>\n",
       "      <td>0.759231</td>\n",
       "      <td>2.0</td>\n",
       "      <td>3.0</td>\n",
       "      <td>0.0</td>\n",
       "      <td>-502.117</td>\n",
       "      <td>3.17453</td>\n",
       "      <td>0.094232</td>\n",
       "      <td>20.0842</td>\n",
       "      <td>...</td>\n",
       "      <td>24.0</td>\n",
       "      <td>18.0</td>\n",
       "      <td>22.0</td>\n",
       "      <td>23.0</td>\n",
       "      <td>27.0</td>\n",
       "      <td>24.0</td>\n",
       "      <td>22.0</td>\n",
       "      <td>26.0</td>\n",
       "      <td>24.0</td>\n",
       "      <td>27.0</td>\n",
       "    </tr>\n",
       "    <tr>\n",
       "      <th>3998</th>\n",
       "      <td>504.511</td>\n",
       "      <td>1.000000</td>\n",
       "      <td>0.759231</td>\n",
       "      <td>2.0</td>\n",
       "      <td>3.0</td>\n",
       "      <td>0.0</td>\n",
       "      <td>-504.312</td>\n",
       "      <td>3.18721</td>\n",
       "      <td>0.070339</td>\n",
       "      <td>21.2613</td>\n",
       "      <td>...</td>\n",
       "      <td>17.0</td>\n",
       "      <td>21.0</td>\n",
       "      <td>20.0</td>\n",
       "      <td>31.0</td>\n",
       "      <td>25.0</td>\n",
       "      <td>22.0</td>\n",
       "      <td>20.0</td>\n",
       "      <td>25.0</td>\n",
       "      <td>23.0</td>\n",
       "      <td>26.0</td>\n",
       "    </tr>\n",
       "    <tr>\n",
       "      <th>3999</th>\n",
       "      <td>504.355</td>\n",
       "      <td>0.954968</td>\n",
       "      <td>0.759231</td>\n",
       "      <td>3.0</td>\n",
       "      <td>7.0</td>\n",
       "      <td>0.0</td>\n",
       "      <td>-504.109</td>\n",
       "      <td>3.13402</td>\n",
       "      <td>0.040577</td>\n",
       "      <td>21.3027</td>\n",
       "      <td>...</td>\n",
       "      <td>18.0</td>\n",
       "      <td>22.0</td>\n",
       "      <td>20.0</td>\n",
       "      <td>29.0</td>\n",
       "      <td>22.0</td>\n",
       "      <td>22.0</td>\n",
       "      <td>22.0</td>\n",
       "      <td>16.0</td>\n",
       "      <td>16.0</td>\n",
       "      <td>21.0</td>\n",
       "    </tr>\n",
       "  </tbody>\n",
       "</table>\n",
       "<p>4000 rows × 29 columns</p>\n",
       "</div>"
      ],
      "text/plain": [
       "         lp__  accept_stat__  stepsize__  treedepth__  n_leapfrog__  \\\n",
       "0     503.318       0.924305    0.762865          2.0           3.0   \n",
       "1     503.855       1.000000    0.762865          1.0           1.0   \n",
       "2     503.924       0.782222    0.762865          1.0           3.0   \n",
       "3     504.486       0.947938    0.762865          3.0           7.0   \n",
       "4     503.730       0.927432    0.762865          2.0           3.0   \n",
       "...       ...            ...         ...          ...           ...   \n",
       "3995  504.331       0.974092    0.759231          2.0           7.0   \n",
       "3996  503.492       0.914450    0.759231          3.0           7.0   \n",
       "3997  504.376       0.876425    0.759231          2.0           3.0   \n",
       "3998  504.511       1.000000    0.759231          2.0           3.0   \n",
       "3999  504.355       0.954968    0.759231          3.0           7.0   \n",
       "\n",
       "      divergent__  energy__    alpha     theta  lambda[1]  ...  y_pred[1]  \\\n",
       "0             0.0  -503.088  3.23207  0.121330    20.2320  ...       24.0   \n",
       "1             0.0  -503.357  3.22648  0.098362    20.9939  ...       15.0   \n",
       "2             0.0  -501.414  3.15437  0.003532    23.2854  ...       27.0   \n",
       "3             0.0  -503.275  3.17627  0.040919    22.2080  ...       24.0   \n",
       "4             0.0  -503.632  3.24087  0.028566    24.2386  ...       23.0   \n",
       "...           ...       ...      ...       ...        ...  ...        ...   \n",
       "3995          0.0  -503.574  3.12531  0.079551    19.6468  ...       21.0   \n",
       "3996          0.0  -503.270  3.08133  0.028794    20.6554  ...       21.0   \n",
       "3997          0.0  -502.117  3.17453  0.094232    20.0842  ...       24.0   \n",
       "3998          0.0  -504.312  3.18721  0.070339    21.2613  ...       17.0   \n",
       "3999          0.0  -504.109  3.13402  0.040577    21.3027  ...       18.0   \n",
       "\n",
       "      y_pred[2]  y_pred[3]  y_pred[4]  y_pred[5]  y_pred[6]  y_pred[7]  \\\n",
       "0          14.0       29.0       26.0       17.0       22.0       24.0   \n",
       "1          22.0       23.0       20.0       31.0       24.0       30.0   \n",
       "2          25.0       34.0       21.0       31.0       28.0       20.0   \n",
       "3          16.0       33.0       22.0       27.0       17.0       23.0   \n",
       "4          29.0       22.0       22.0       23.0       32.0       22.0   \n",
       "...         ...        ...        ...        ...        ...        ...   \n",
       "3995       25.0       28.0       16.0       16.0       16.0       23.0   \n",
       "3996       22.0       16.0       30.0       20.0       19.0       23.0   \n",
       "3997       18.0       22.0       23.0       27.0       24.0       22.0   \n",
       "3998       21.0       20.0       31.0       25.0       22.0       20.0   \n",
       "3999       22.0       20.0       29.0       22.0       22.0       22.0   \n",
       "\n",
       "      y_pred[8]  y_pred[9]  y_pred[10]  \n",
       "0          27.0       24.0        27.0  \n",
       "1          24.0       23.0        29.0  \n",
       "2          24.0       29.0        23.0  \n",
       "3          24.0       27.0        22.0  \n",
       "4          24.0       28.0        27.0  \n",
       "...         ...        ...         ...  \n",
       "3995       19.0       18.0        27.0  \n",
       "3996       24.0       18.0        14.0  \n",
       "3997       26.0       24.0        27.0  \n",
       "3998       25.0       23.0        26.0  \n",
       "3999       16.0       16.0        21.0  \n",
       "\n",
       "[4000 rows x 29 columns]"
      ]
     },
     "execution_count": 421,
     "metadata": {},
     "output_type": "execute_result"
    }
   ],
   "source": [
    "df = fit.draws_pd()\n",
    "df"
   ]
  },
  {
   "cell_type": "code",
   "execution_count": 422,
   "metadata": {},
   "outputs": [
    {
     "data": {
      "image/png": "[encoded data removed]",
      "text/plain": [
       "<Figure size 432x288 with 1 Axes>"
      ]
     },
     "metadata": {
      "needs_background": "light"
     },
     "output_type": "display_data"
    },
    {
     "name": "stdout",
     "output_type": "stream",
     "text": [
      "Observed data:  24\n",
      "Simulated data mean:  21.43925\n"
     ]
    },
    {
     "data": {
      "image/png": "[encoded data removed]",
      "text/plain": [
       "<Figure size 432x288 with 1 Axes>"
      ]
     },
     "metadata": {
      "needs_background": "light"
     },
     "output_type": "display_data"
    },
    {
     "name": "stdout",
     "output_type": "stream",
     "text": [
      "Observed data:  25\n",
      "Simulated data mean:  21.85175\n"
     ]
    },
    {
     "data": {
      "image/png": "[encoded data removed]",
      "text/plain": [
       "<Figure size 432x288 with 1 Axes>"
      ]
     },
     "metadata": {
      "needs_background": "light"
     },
     "output_type": "display_data"
    },
    {
     "name": "stdout",
     "output_type": "stream",
     "text": [
      "Observed data:  31\n",
      "Simulated data mean:  22.749\n"
     ]
    },
    {
     "data": {
      "image/png": "[encoded data removed]",
      "text/plain": [
       "<Figure size 432x288 with 1 Axes>"
      ]
     },
     "metadata": {
      "needs_background": "light"
     },
     "output_type": "display_data"
    },
    {
     "name": "stdout",
     "output_type": "stream",
     "text": [
      "Observed data:  31\n",
      "Simulated data mean:  23.49825\n"
     ]
    },
    {
     "data": {
      "image/png": "[encoded data removed]",
      "text/plain": [
       "<Figure size 432x288 with 1 Axes>"
      ]
     },
     "metadata": {
      "needs_background": "light"
     },
     "output_type": "display_data"
    },
    {
     "name": "stdout",
     "output_type": "stream",
     "text": [
      "Observed data:  22\n",
      "Simulated data mean:  23.806\n"
     ]
    },
    {
     "data": {
      "image/png": "[encoded data removed]",
      "text/plain": [
       "<Figure size 432x288 with 1 Axes>"
      ]
     },
     "metadata": {
      "needs_background": "light"
     },
     "output_type": "display_data"
    },
    {
     "name": "stdout",
     "output_type": "stream",
     "text": [
      "Observed data:  21\n",
      "Simulated data mean:  24.185\n"
     ]
    },
    {
     "data": {
      "image/png": "[encoded data removed]",
      "text/plain": [
       "<Figure size 432x288 with 1 Axes>"
      ]
     },
     "metadata": {
      "needs_background": "light"
     },
     "output_type": "display_data"
    },
    {
     "name": "stdout",
     "output_type": "stream",
     "text": [
      "Observed data:  26\n",
      "Simulated data mean:  23.97425\n"
     ]
    },
    {
     "data": {
      "image/png": "[encoded data removed]",
      "text/plain": [
       "<Figure size 432x288 with 1 Axes>"
      ]
     },
     "metadata": {
      "needs_background": "light"
     },
     "output_type": "display_data"
    },
    {
     "name": "stdout",
     "output_type": "stream",
     "text": [
      "Observed data:  20\n",
      "Simulated data mean:  24.5315\n"
     ]
    },
    {
     "data": {
      "image/png": "[encoded data removed]",
      "text/plain": [
       "<Figure size 432x288 with 1 Axes>"
      ]
     },
     "metadata": {
      "needs_background": "light"
     },
     "output_type": "display_data"
    },
    {
     "name": "stdout",
     "output_type": "stream",
     "text": [
      "Observed data:  16\n",
      "Simulated data mean:  26.481\n"
     ]
    },
    {
     "data": {
      "image/png": "[encoded data removed]",
      "text/plain": [
       "<Figure size 432x288 with 1 Axes>"
      ]
     },
     "metadata": {
      "needs_background": "light"
     },
     "output_type": "display_data"
    },
    {
     "name": "stdout",
     "output_type": "stream",
     "text": [
      "Observed data:  22\n",
      "Simulated data mean:  25.8685\n"
     ]
    }
   ],
   "source": [
    "for year in range(1, 11):\n",
    "    year_number = \"y_pred[\" + str(year) + \"]\"\n",
    "    title = 1975 + year\n",
    "    df[year_number].plot.hist(bins=30, title =title)\n",
    "    plt.show()\n",
    "    print(\"Observed data: \", d[\"Fatal accidents\"][year-1])\n",
    "    print(\"Simulated data mean: \", df[year_number].mean())"
   ]
  },
  {
   "attachments": {},
   "cell_type": "markdown",
   "metadata": {},
   "source": [
    "#### When we use single intercept alpha posterior distributions don't fit the data precisely.\n",
    "#### Despite the high variability in the observed data, the simulated data for all years are similar."
   ]
  },
  {
   "attachments": {},
   "cell_type": "markdown",
   "metadata": {},
   "source": [
    "<br> <br>\n",
    "\n",
    "# Individual intercepts of alpha for each year:"
   ]
  },
  {
   "cell_type": "code",
   "execution_count": 423,
   "metadata": {},
   "outputs": [
    {
     "name": "stderr",
     "output_type": "stream",
     "text": [
      "INFO:cmdstanpy:found newer exe file, not recompiling\n"
     ]
    }
   ],
   "source": [
    "model_2=CmdStanModel(stan_file='code_2.stan')"
   ]
  },
  {
   "cell_type": "code",
   "execution_count": 424,
   "metadata": {},
   "outputs": [
    {
     "name": "stderr",
     "output_type": "stream",
     "text": [
      "INFO:cmdstanpy:CmdStan start processing\n",
      "chain 1 |\u001b[33m          \u001b[0m| 00:00 Status\n",
      "\u001b[A\n",
      "\n",
      "chain 1 |\u001b[33m▉         \u001b[0m| 00:00 Iteration:    1 / 2000 [  0%]  (Warmup)\n",
      "\u001b[A\n",
      "\n",
      "chain 1 |\u001b[34m██████████\u001b[0m| 00:00 Sampling completed                     \n",
      "chain 2 |\u001b[34m██████████\u001b[0m| 00:00 Sampling completed\n",
      "\n",
      "chain 3 |\u001b[34m██████████\u001b[0m| 00:00 Sampling completed\n",
      "\n",
      "\n",
      "chain 4 |\u001b[34m██████████\u001b[0m| 00:00 Sampling completed"
     ]
    },
    {
     "name": "stdout",
     "output_type": "stream",
     "text": [
      "                                                                                                                                                                                                                                                                                                                                "
     ]
    },
    {
     "name": "stderr",
     "output_type": "stream",
     "text": [
      "\n",
      "INFO:cmdstanpy:CmdStan done processing.\n"
     ]
    },
    {
     "name": "stdout",
     "output_type": "stream",
     "text": [
      "\n"
     ]
    }
   ],
   "source": [
    "fit = model_2.sample(data={\"N\": d.shape[0], \"n_i\": d[\"Miles flown [100 mln miles]\"].values, \"y\": d[\"Fatal accidents\"].values})"
   ]
  },
  {
   "cell_type": "code",
   "execution_count": 425,
   "metadata": {},
   "outputs": [
    {
     "data": {
      "text/html": [
       "<div>\n",
       "<style scoped>\n",
       "    .dataframe tbody tr th:only-of-type {\n",
       "        vertical-align: middle;\n",
       "    }\n",
       "\n",
       "    .dataframe tbody tr th {\n",
       "        vertical-align: top;\n",
       "    }\n",
       "\n",
       "    .dataframe thead th {\n",
       "        text-align: right;\n",
       "    }\n",
       "</style>\n",
       "<table border=\"1\" class=\"dataframe\">\n",
       "  <thead>\n",
       "    <tr style=\"text-align: right;\">\n",
       "      <th></th>\n",
       "      <th>lp__</th>\n",
       "      <th>accept_stat__</th>\n",
       "      <th>stepsize__</th>\n",
       "      <th>treedepth__</th>\n",
       "      <th>n_leapfrog__</th>\n",
       "      <th>divergent__</th>\n",
       "      <th>energy__</th>\n",
       "      <th>alpha[1]</th>\n",
       "      <th>alpha[2]</th>\n",
       "      <th>alpha[3]</th>\n",
       "      <th>...</th>\n",
       "      <th>y_pred[1]</th>\n",
       "      <th>y_pred[2]</th>\n",
       "      <th>y_pred[3]</th>\n",
       "      <th>y_pred[4]</th>\n",
       "      <th>y_pred[5]</th>\n",
       "      <th>y_pred[6]</th>\n",
       "      <th>y_pred[7]</th>\n",
       "      <th>y_pred[8]</th>\n",
       "      <th>y_pred[9]</th>\n",
       "      <th>y_pred[10]</th>\n",
       "    </tr>\n",
       "  </thead>\n",
       "  <tbody>\n",
       "    <tr>\n",
       "      <th>0</th>\n",
       "      <td>514.382</td>\n",
       "      <td>0.891905</td>\n",
       "      <td>0.392022</td>\n",
       "      <td>3.0</td>\n",
       "      <td>15.0</td>\n",
       "      <td>0.0</td>\n",
       "      <td>-510.550</td>\n",
       "      <td>3.87958</td>\n",
       "      <td>3.83081</td>\n",
       "      <td>3.68163</td>\n",
       "      <td>...</td>\n",
       "      <td>29.0</td>\n",
       "      <td>27.0</td>\n",
       "      <td>30.0</td>\n",
       "      <td>27.0</td>\n",
       "      <td>25.0</td>\n",
       "      <td>10.0</td>\n",
       "      <td>17.0</td>\n",
       "      <td>18.0</td>\n",
       "      <td>17.0</td>\n",
       "      <td>18.0</td>\n",
       "    </tr>\n",
       "    <tr>\n",
       "      <th>1</th>\n",
       "      <td>511.316</td>\n",
       "      <td>0.941868</td>\n",
       "      <td>0.392022</td>\n",
       "      <td>3.0</td>\n",
       "      <td>7.0</td>\n",
       "      <td>0.0</td>\n",
       "      <td>-508.326</td>\n",
       "      <td>4.07224</td>\n",
       "      <td>3.50344</td>\n",
       "      <td>3.89205</td>\n",
       "      <td>...</td>\n",
       "      <td>27.0</td>\n",
       "      <td>14.0</td>\n",
       "      <td>30.0</td>\n",
       "      <td>29.0</td>\n",
       "      <td>26.0</td>\n",
       "      <td>25.0</td>\n",
       "      <td>15.0</td>\n",
       "      <td>23.0</td>\n",
       "      <td>27.0</td>\n",
       "      <td>12.0</td>\n",
       "    </tr>\n",
       "    <tr>\n",
       "      <th>2</th>\n",
       "      <td>511.844</td>\n",
       "      <td>0.950104</td>\n",
       "      <td>0.392022</td>\n",
       "      <td>3.0</td>\n",
       "      <td>7.0</td>\n",
       "      <td>0.0</td>\n",
       "      <td>-504.614</td>\n",
       "      <td>3.74310</td>\n",
       "      <td>4.27141</td>\n",
       "      <td>3.89562</td>\n",
       "      <td>...</td>\n",
       "      <td>16.0</td>\n",
       "      <td>44.0</td>\n",
       "      <td>33.0</td>\n",
       "      <td>35.0</td>\n",
       "      <td>10.0</td>\n",
       "      <td>20.0</td>\n",
       "      <td>18.0</td>\n",
       "      <td>10.0</td>\n",
       "      <td>24.0</td>\n",
       "      <td>22.0</td>\n",
       "    </tr>\n",
       "    <tr>\n",
       "      <th>3</th>\n",
       "      <td>509.044</td>\n",
       "      <td>0.971156</td>\n",
       "      <td>0.392022</td>\n",
       "      <td>3.0</td>\n",
       "      <td>7.0</td>\n",
       "      <td>0.0</td>\n",
       "      <td>-502.749</td>\n",
       "      <td>4.01689</td>\n",
       "      <td>3.67920</td>\n",
       "      <td>3.59953</td>\n",
       "      <td>...</td>\n",
       "      <td>18.0</td>\n",
       "      <td>15.0</td>\n",
       "      <td>29.0</td>\n",
       "      <td>35.0</td>\n",
       "      <td>23.0</td>\n",
       "      <td>8.0</td>\n",
       "      <td>21.0</td>\n",
       "      <td>11.0</td>\n",
       "      <td>20.0</td>\n",
       "      <td>25.0</td>\n",
       "    </tr>\n",
       "    <tr>\n",
       "      <th>4</th>\n",
       "      <td>513.118</td>\n",
       "      <td>0.969465</td>\n",
       "      <td>0.392022</td>\n",
       "      <td>3.0</td>\n",
       "      <td>7.0</td>\n",
       "      <td>0.0</td>\n",
       "      <td>-502.639</td>\n",
       "      <td>4.09437</td>\n",
       "      <td>4.12326</td>\n",
       "      <td>4.06474</td>\n",
       "      <td>...</td>\n",
       "      <td>26.0</td>\n",
       "      <td>35.0</td>\n",
       "      <td>43.0</td>\n",
       "      <td>43.0</td>\n",
       "      <td>28.0</td>\n",
       "      <td>30.0</td>\n",
       "      <td>21.0</td>\n",
       "      <td>32.0</td>\n",
       "      <td>17.0</td>\n",
       "      <td>26.0</td>\n",
       "    </tr>\n",
       "    <tr>\n",
       "      <th>...</th>\n",
       "      <td>...</td>\n",
       "      <td>...</td>\n",
       "      <td>...</td>\n",
       "      <td>...</td>\n",
       "      <td>...</td>\n",
       "      <td>...</td>\n",
       "      <td>...</td>\n",
       "      <td>...</td>\n",
       "      <td>...</td>\n",
       "      <td>...</td>\n",
       "      <td>...</td>\n",
       "      <td>...</td>\n",
       "      <td>...</td>\n",
       "      <td>...</td>\n",
       "      <td>...</td>\n",
       "      <td>...</td>\n",
       "      <td>...</td>\n",
       "      <td>...</td>\n",
       "      <td>...</td>\n",
       "      <td>...</td>\n",
       "      <td>...</td>\n",
       "    </tr>\n",
       "    <tr>\n",
       "      <th>3995</th>\n",
       "      <td>515.459</td>\n",
       "      <td>0.971145</td>\n",
       "      <td>0.449565</td>\n",
       "      <td>3.0</td>\n",
       "      <td>15.0</td>\n",
       "      <td>0.0</td>\n",
       "      <td>-512.493</td>\n",
       "      <td>3.94313</td>\n",
       "      <td>3.78517</td>\n",
       "      <td>3.65804</td>\n",
       "      <td>...</td>\n",
       "      <td>15.0</td>\n",
       "      <td>17.0</td>\n",
       "      <td>31.0</td>\n",
       "      <td>33.0</td>\n",
       "      <td>24.0</td>\n",
       "      <td>12.0</td>\n",
       "      <td>29.0</td>\n",
       "      <td>24.0</td>\n",
       "      <td>18.0</td>\n",
       "      <td>32.0</td>\n",
       "    </tr>\n",
       "    <tr>\n",
       "      <th>3996</th>\n",
       "      <td>507.973</td>\n",
       "      <td>0.721220</td>\n",
       "      <td>0.449565</td>\n",
       "      <td>3.0</td>\n",
       "      <td>7.0</td>\n",
       "      <td>0.0</td>\n",
       "      <td>-502.379</td>\n",
       "      <td>4.04624</td>\n",
       "      <td>3.98493</td>\n",
       "      <td>3.63066</td>\n",
       "      <td>...</td>\n",
       "      <td>25.0</td>\n",
       "      <td>26.0</td>\n",
       "      <td>31.0</td>\n",
       "      <td>12.0</td>\n",
       "      <td>18.0</td>\n",
       "      <td>8.0</td>\n",
       "      <td>28.0</td>\n",
       "      <td>18.0</td>\n",
       "      <td>11.0</td>\n",
       "      <td>21.0</td>\n",
       "    </tr>\n",
       "    <tr>\n",
       "      <th>3997</th>\n",
       "      <td>512.709</td>\n",
       "      <td>0.974785</td>\n",
       "      <td>0.449565</td>\n",
       "      <td>3.0</td>\n",
       "      <td>15.0</td>\n",
       "      <td>0.0</td>\n",
       "      <td>-501.659</td>\n",
       "      <td>3.74812</td>\n",
       "      <td>3.57196</td>\n",
       "      <td>3.29012</td>\n",
       "      <td>...</td>\n",
       "      <td>21.0</td>\n",
       "      <td>29.0</td>\n",
       "      <td>18.0</td>\n",
       "      <td>32.0</td>\n",
       "      <td>18.0</td>\n",
       "      <td>17.0</td>\n",
       "      <td>36.0</td>\n",
       "      <td>21.0</td>\n",
       "      <td>15.0</td>\n",
       "      <td>22.0</td>\n",
       "    </tr>\n",
       "    <tr>\n",
       "      <th>3998</th>\n",
       "      <td>514.321</td>\n",
       "      <td>0.992353</td>\n",
       "      <td>0.449565</td>\n",
       "      <td>3.0</td>\n",
       "      <td>7.0</td>\n",
       "      <td>0.0</td>\n",
       "      <td>-510.044</td>\n",
       "      <td>3.72475</td>\n",
       "      <td>3.58692</td>\n",
       "      <td>3.34806</td>\n",
       "      <td>...</td>\n",
       "      <td>17.0</td>\n",
       "      <td>24.0</td>\n",
       "      <td>32.0</td>\n",
       "      <td>35.0</td>\n",
       "      <td>24.0</td>\n",
       "      <td>15.0</td>\n",
       "      <td>25.0</td>\n",
       "      <td>27.0</td>\n",
       "      <td>17.0</td>\n",
       "      <td>23.0</td>\n",
       "    </tr>\n",
       "    <tr>\n",
       "      <th>3999</th>\n",
       "      <td>510.015</td>\n",
       "      <td>0.743586</td>\n",
       "      <td>0.449565</td>\n",
       "      <td>3.0</td>\n",
       "      <td>7.0</td>\n",
       "      <td>0.0</td>\n",
       "      <td>-505.270</td>\n",
       "      <td>3.43238</td>\n",
       "      <td>3.29628</td>\n",
       "      <td>3.61098</td>\n",
       "      <td>...</td>\n",
       "      <td>20.0</td>\n",
       "      <td>20.0</td>\n",
       "      <td>37.0</td>\n",
       "      <td>32.0</td>\n",
       "      <td>24.0</td>\n",
       "      <td>22.0</td>\n",
       "      <td>32.0</td>\n",
       "      <td>23.0</td>\n",
       "      <td>12.0</td>\n",
       "      <td>18.0</td>\n",
       "    </tr>\n",
       "  </tbody>\n",
       "</table>\n",
       "<p>4000 rows × 38 columns</p>\n",
       "</div>"
      ],
      "text/plain": [
       "         lp__  accept_stat__  stepsize__  treedepth__  n_leapfrog__  \\\n",
       "0     514.382       0.891905    0.392022          3.0          15.0   \n",
       "1     511.316       0.941868    0.392022          3.0           7.0   \n",
       "2     511.844       0.950104    0.392022          3.0           7.0   \n",
       "3     509.044       0.971156    0.392022          3.0           7.0   \n",
       "4     513.118       0.969465    0.392022          3.0           7.0   \n",
       "...       ...            ...         ...          ...           ...   \n",
       "3995  515.459       0.971145    0.449565          3.0          15.0   \n",
       "3996  507.973       0.721220    0.449565          3.0           7.0   \n",
       "3997  512.709       0.974785    0.449565          3.0          15.0   \n",
       "3998  514.321       0.992353    0.449565          3.0           7.0   \n",
       "3999  510.015       0.743586    0.449565          3.0           7.0   \n",
       "\n",
       "      divergent__  energy__  alpha[1]  alpha[2]  alpha[3]  ...  y_pred[1]  \\\n",
       "0             0.0  -510.550   3.87958   3.83081   3.68163  ...       29.0   \n",
       "1             0.0  -508.326   4.07224   3.50344   3.89205  ...       27.0   \n",
       "2             0.0  -504.614   3.74310   4.27141   3.89562  ...       16.0   \n",
       "3             0.0  -502.749   4.01689   3.67920   3.59953  ...       18.0   \n",
       "4             0.0  -502.639   4.09437   4.12326   4.06474  ...       26.0   \n",
       "...           ...       ...       ...       ...       ...  ...        ...   \n",
       "3995          0.0  -512.493   3.94313   3.78517   3.65804  ...       15.0   \n",
       "3996          0.0  -502.379   4.04624   3.98493   3.63066  ...       25.0   \n",
       "3997          0.0  -501.659   3.74812   3.57196   3.29012  ...       21.0   \n",
       "3998          0.0  -510.044   3.72475   3.58692   3.34806  ...       17.0   \n",
       "3999          0.0  -505.270   3.43238   3.29628   3.61098  ...       20.0   \n",
       "\n",
       "      y_pred[2]  y_pred[3]  y_pred[4]  y_pred[5]  y_pred[6]  y_pred[7]  \\\n",
       "0          27.0       30.0       27.0       25.0       10.0       17.0   \n",
       "1          14.0       30.0       29.0       26.0       25.0       15.0   \n",
       "2          44.0       33.0       35.0       10.0       20.0       18.0   \n",
       "3          15.0       29.0       35.0       23.0        8.0       21.0   \n",
       "4          35.0       43.0       43.0       28.0       30.0       21.0   \n",
       "...         ...        ...        ...        ...        ...        ...   \n",
       "3995       17.0       31.0       33.0       24.0       12.0       29.0   \n",
       "3996       26.0       31.0       12.0       18.0        8.0       28.0   \n",
       "3997       29.0       18.0       32.0       18.0       17.0       36.0   \n",
       "3998       24.0       32.0       35.0       24.0       15.0       25.0   \n",
       "3999       20.0       37.0       32.0       24.0       22.0       32.0   \n",
       "\n",
       "      y_pred[8]  y_pred[9]  y_pred[10]  \n",
       "0          18.0       17.0        18.0  \n",
       "1          23.0       27.0        12.0  \n",
       "2          10.0       24.0        22.0  \n",
       "3          11.0       20.0        25.0  \n",
       "4          32.0       17.0        26.0  \n",
       "...         ...        ...         ...  \n",
       "3995       24.0       18.0        32.0  \n",
       "3996       18.0       11.0        21.0  \n",
       "3997       21.0       15.0        22.0  \n",
       "3998       27.0       17.0        23.0  \n",
       "3999       23.0       12.0        18.0  \n",
       "\n",
       "[4000 rows x 38 columns]"
      ]
     },
     "execution_count": 425,
     "metadata": {},
     "output_type": "execute_result"
    }
   ],
   "source": [
    "df = fit.draws_pd()\n",
    "df"
   ]
  },
  {
   "cell_type": "code",
   "execution_count": 426,
   "metadata": {},
   "outputs": [
    {
     "data": {
      "image/png": "[encoded data removed]",
      "text/plain": [
       "<Figure size 432x288 with 1 Axes>"
      ]
     },
     "metadata": {
      "needs_background": "light"
     },
     "output_type": "display_data"
    },
    {
     "name": "stdout",
     "output_type": "stream",
     "text": [
      "Observed data:  24\n",
      "Simulated data mean:  23.018\n"
     ]
    },
    {
     "data": {
      "image/png": "[encoded data removed]",
      "text/plain": [
       "<Figure size 432x288 with 1 Axes>"
      ]
     },
     "metadata": {
      "needs_background": "light"
     },
     "output_type": "display_data"
    },
    {
     "name": "stdout",
     "output_type": "stream",
     "text": [
      "Observed data:  25\n",
      "Simulated data mean:  24.06225\n"
     ]
    },
    {
     "data": {
      "image/png": "[encoded data removed]",
      "text/plain": [
       "<Figure size 432x288 with 1 Axes>"
      ]
     },
     "metadata": {
      "needs_background": "light"
     },
     "output_type": "display_data"
    },
    {
     "name": "stdout",
     "output_type": "stream",
     "text": [
      "Observed data:  31\n",
      "Simulated data mean:  30.32\n"
     ]
    },
    {
     "data": {
      "image/png": "[encoded data removed]",
      "text/plain": [
       "<Figure size 432x288 with 1 Axes>"
      ]
     },
     "metadata": {
      "needs_background": "light"
     },
     "output_type": "display_data"
    },
    {
     "name": "stdout",
     "output_type": "stream",
     "text": [
      "Observed data:  31\n",
      "Simulated data mean:  30.51175\n"
     ]
    },
    {
     "data": {
      "image/png": "[encoded data removed]",
      "text/plain": [
       "<Figure size 432x288 with 1 Axes>"
      ]
     },
     "metadata": {
      "needs_background": "light"
     },
     "output_type": "display_data"
    },
    {
     "name": "stdout",
     "output_type": "stream",
     "text": [
      "Observed data:  22\n",
      "Simulated data mean:  22.074\n"
     ]
    },
    {
     "data": {
      "image/png": "[encoded data removed]",
      "text/plain": [
       "<Figure size 432x288 with 1 Axes>"
      ]
     },
     "metadata": {
      "needs_background": "light"
     },
     "output_type": "display_data"
    },
    {
     "name": "stdout",
     "output_type": "stream",
     "text": [
      "Observed data:  21\n",
      "Simulated data mean:  21.017\n"
     ]
    },
    {
     "data": {
      "image/png": "[encoded data removed]",
      "text/plain": [
       "<Figure size 432x288 with 1 Axes>"
      ]
     },
     "metadata": {
      "needs_background": "light"
     },
     "output_type": "display_data"
    },
    {
     "name": "stdout",
     "output_type": "stream",
     "text": [
      "Observed data:  26\n",
      "Simulated data mean:  25.88425\n"
     ]
    },
    {
     "data": {
      "image/png": "[encoded data removed]",
      "text/plain": [
       "<Figure size 432x288 with 1 Axes>"
      ]
     },
     "metadata": {
      "needs_background": "light"
     },
     "output_type": "display_data"
    },
    {
     "name": "stdout",
     "output_type": "stream",
     "text": [
      "Observed data:  20\n",
      "Simulated data mean:  20.10475\n"
     ]
    },
    {
     "data": {
      "image/png": "[encoded data removed]",
      "text/plain": [
       "<Figure size 432x288 with 1 Axes>"
      ]
     },
     "metadata": {
      "needs_background": "light"
     },
     "output_type": "display_data"
    },
    {
     "name": "stdout",
     "output_type": "stream",
     "text": [
      "Observed data:  16\n",
      "Simulated data mean:  16.81325\n"
     ]
    },
    {
     "data": {
      "image/png": "[encoded data removed]",
      "text/plain": [
       "<Figure size 432x288 with 1 Axes>"
      ]
     },
     "metadata": {
      "needs_background": "light"
     },
     "output_type": "display_data"
    },
    {
     "name": "stdout",
     "output_type": "stream",
     "text": [
      "Observed data:  22\n",
      "Simulated data mean:  22.44375\n"
     ]
    }
   ],
   "source": [
    "for year in range(1, 11):\n",
    "    year_number = \"y_pred[\" + str(year) + \"]\"\n",
    "    title = 1975 + year\n",
    "    df[year_number].plot.hist(bins=30, title =title)\n",
    "    plt.show()\n",
    "    print(\"Observed data: \", d[\"Fatal accidents\"][year-1])\n",
    "    print(\"Simulated data mean: \", df[year_number].mean())"
   ]
  },
  {
   "attachments": {},
   "cell_type": "markdown",
   "metadata": {},
   "source": [
    "#### After selecting individual alpha parameters for each year, the model fits the data much more precisely."
   ]
  }
 ],
 "metadata": {
  "kernelspec": {
   "display_name": "Python 3",
   "language": "python",
   "name": "python3"
  },
  "language_info": {
   "codemirror_mode": {
    "name": "ipython",
    "version": 3
   },
   "file_extension": ".py",
   "mimetype": "text/x-python",
   "name": "python",
   "nbconvert_exporter": "python",
   "pygments_lexer": "ipython3",
   "version": "3.9.11"
  },
  "orig_nbformat": 4
 },
 "nbformat": 4,
 "nbformat_minor": 2
}
